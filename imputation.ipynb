{
 "cells": [
  {
   "cell_type": "markdown",
   "metadata": {},
   "source": [
    "# Imputation\n",
    "imputation is the process of replacing missing data with substituted values. When substituting for a data point, it is known as \"unit imputation\"; when substituting for a component of a data point, it is known as \"item imputation\". There are three main problems that missing data causes: missing data can introduce a substantial amount of bias, make the handling and analysis of the data more arduous, and create reductions in efficiency."
   ]
  },
  {
   "cell_type": "markdown",
   "metadata": {},
   "source": [
    "At starting stage i applied normal filling with mean,median,mode but after gaining some knowledge about accuracy i stared applying KNN imputation.accuracy was increased.\n",
    "\n",
    "So i will demonistate all imputation methods and at last we will do practical and measure accuracy."
   ]
  },
  {
   "cell_type": "code",
   "execution_count": 1,
   "metadata": {},
   "outputs": [],
   "source": [
    "import pandas as pd\n",
    "import numpy as np\n",
    "import seaborn as sns\n",
    "import matplotlib.pyplot as plt\n",
    "import missingno as ms\n",
    "from sklearn.preprocessing import Imputer\n",
    "from sklearn.model_selection import StratifiedKFold\n",
    "from sklearn.metrics import accuracy_score\n",
    "import knn_impute as knn\n",
    "#from fancyimpute import KNN\n",
    "%matplotlib inline\n",
    "import warnings\n",
    "warnings.filterwarnings(\"ignore\")"
   ]
  },
  {
   "cell_type": "code",
   "execution_count": 2,
   "metadata": {},
   "outputs": [],
   "source": [
    "train=pd.read_csv('train.csv')"
   ]
  },
  {
   "cell_type": "code",
   "execution_count": 3,
   "metadata": {},
   "outputs": [
    {
     "data": {
      "text/plain": [
       "PassengerId      0\n",
       "Survived         0\n",
       "Pclass           0\n",
       "Name             0\n",
       "Sex              0\n",
       "Age            177\n",
       "SibSp            0\n",
       "Parch            0\n",
       "Ticket           0\n",
       "Fare             0\n",
       "Cabin          687\n",
       "Embarked         2\n",
       "dtype: int64"
      ]
     },
     "execution_count": 3,
     "metadata": {},
     "output_type": "execute_result"
    }
   ],
   "source": [
    "train.isnull().sum()"
   ]
  },
  {
   "cell_type": "markdown",
   "metadata": {},
   "source": [
    "## Method 1\n"
   ]
  },
  {
   "cell_type": "markdown",
   "metadata": {},
   "source": [
    "Use mean or mode or median to fill data and no need of import sklearn package this basic method to fill.\n",
    "\n",
    "\n",
    "\n",
    "train['Age'].fillna(train['Age'].mode()[0], inplace=True)"
   ]
  },
  {
   "cell_type": "markdown",
   "metadata": {},
   "source": [
    "## Method 2"
   ]
  },
  {
   "cell_type": "markdown",
   "metadata": {},
   "source": [
    "If the missing value isn’t identified as NaN , then we have to first convert or replace such non NaN entry with a NaN.\n",
    "\n",
    "data_name[‘column_name’].replace(0, np.nan, inplace= True)\n",
    "\n",
    "train['Age'].replace(value,np.nan,inplace=True)\n",
    "\n",
    "\n"
   ]
  },
  {
   "cell_type": "markdown",
   "metadata": {},
   "source": [
    "## Method 3"
   ]
  },
  {
   "cell_type": "markdown",
   "metadata": {},
   "source": [
    "This is the fastest and easiest step to handle missing values. However, it is not generally advised. This method reduces the quality of our model as it reduces sample size because it works by deleting all other observations where any of the variable is missing. The process can be done by:\n",
    "\n",
    "data_name.dropna()\n",
    "\n",
    "train=train.dropna(how='all')\n",
    "\n",
    "It drops column which have NaN."
   ]
  },
  {
   "cell_type": "markdown",
   "metadata": {},
   "source": [
    "## Method 4\n"
   ]
  },
  {
   "cell_type": "markdown",
   "metadata": {},
   "source": [
    "sklearn.preprocessing.Imputer need this package to impute\n",
    "\n",
    "\n",
    "Imputation transformer for completing missing values.\n",
    "\n",
    "#### missing_values  : integer or “NaN”, optional (default=”NaN”)\n",
    "\n",
    "The placeholder for the missing values. All occurrences of missing_values will be imputed. For missing values encoded as np.nan, use the string value “NaN”.\n",
    "\n",
    "#### strategy : string, optional (default=”mean”)\n",
    "\n",
    "The imputation strategy.\n",
    "\n",
    "If “mean”, then replace missing values using the mean along the axis.\n",
    "If “median”, then replace missing values using the median along the axis.\n",
    "If “most_frequent”, then replace missing using the most frequent value along the axis.\n",
    "axis : integer, optional (default=0)\n",
    "\n",
    "The axis along which to impute.\n",
    "\n",
    "If axis=0, then impute along columns.\n",
    "If axis=1, then impute along rows.\n",
    "verbose : integer, optional (default=0)\n",
    "\n",
    "Controls the verbosity of the imputer.\n",
    "\n",
    "#### copy : boolean, optional (default=True)\n",
    "\n",
    "If True, a copy of X will be created. If False, imputation will be done in-place whenever possible. Note that, in the following cases, a new copy will always be made, even if copy=False:\n",
    "\n",
    "If X is not an array of floating values;\n",
    "If X is sparse and missing_values=0;\n",
    "If axis=0 and X is encoded as a CSR matrix;\n",
    "If axis=1 and X is encoded as a CSC matrix.\n",
    "\n",
    "#### Methods\n",
    "\n",
    "fit(X[, y])\tFit the imputer on X.\n",
    "</br>\n",
    "fit_transform(X[, y])\tFit to data, then transform it.\n",
    "get_params([deep])\tGet parameters for this estimator.\n",
    "set_params(**params)\tSet the parameters of this estimator.\n",
    "transform(X)\tImpute all missing values in X."
   ]
  },
  {
   "cell_type": "markdown",
   "metadata": {},
   "source": [
    "### implementation"
   ]
  },
  {
   "cell_type": "markdown",
   "metadata": {},
   "source": [
    "from sklearn.preprocessing import Imputer\n",
    "\n",
    "imputer = Imputer(missing_values=\"NaN\", strategy='mean', axis=0)\n",
    "\n",
    "X = imputer.fit_transform(X)\n",
    "\n",
    "\n",
    "Use mean or median or mode for imputation"
   ]
  },
  {
   "cell_type": "markdown",
   "metadata": {},
   "source": [
    "## Method 5"
   ]
  },
  {
   "cell_type": "markdown",
   "metadata": {},
   "source": [
    "## KNN Imputation\n",
    "\n",
    "### implementation\n",
    "\n",
    "knn_impute.py have place at ur current working directory and import\n",
    "\n",
    "import knn_impute as knn\n",
    "\n",
    "age_backup=knn.knn_impute(target=train['Age'], attributes=train.drop(['Age'], 1),\n",
    "                                    aggregation_method=\"median\", k_neighbors=10, numeric_distance='euclidean',\n",
    "                                    categorical_distance='hamming', missing_neighbors_threshold=0.8)\n",
    "                                    \n",
    "                                    \n",
    "train['Age'] = age_backup"
   ]
  },
  {
   "cell_type": "markdown",
   "metadata": {},
   "source": [
    "## Method 6"
   ]
  },
  {
   "cell_type": "markdown",
   "metadata": {},
   "source": [
    "If the missing value isn’t identified as NaN , then we have to first convert or replace such non NaN entry with a NaN.\n",
    "\n",
    "data_name[‘column_name’].replace(0, np.nan, inplace= True)\n",
    "This will replace values of zero with NaN in the column named column_name of our data_name ."
   ]
  },
  {
   "cell_type": "markdown",
   "metadata": {},
   "source": [
    "## Method 7"
   ]
  },
  {
   "cell_type": "markdown",
   "metadata": {},
   "source": [
    "### PREDICTIVE MODEL FOR HANDLING MISSING DATA\n",
    "\n",
    "This is by far one of the best and most efficient method for handling missing data. Depending on the class of data that is missing, one can either use a regression model or classification to predict missing data. This works by turning missing features to labels themselves and now using columns without missing values to predict columns with missing values\n",
    "\n",
    "The process goes thus:\n",
    "\n",
    "Call the variable where you have missing values as y.\n",
    "\n",
    "Split data into sets with missing values and without missing values, name the missing set X_text and the one without missing values X_train and take y (variable or feature where there is missing values) off the second set, naming it y_train.\n",
    "\n",
    "Use one of classification methods to predict y_pred.\n",
    "\n",
    "Add it to X_test as your y_test column. Then combine sets together.\n",
    "\n",
    "For a beginner or newbie in machine learning, this approach might seem more difficult. The only drawback to this approach is that if there is no correlation between attributes with missing data and other attributes in the data set, then the model will be bias for predicting missing values."
   ]
  },
  {
   "cell_type": "code",
   "execution_count": 4,
   "metadata": {
    "scrolled": true
   },
   "outputs": [
    {
     "data": {
      "text/plain": [
       "<matplotlib.axes._subplots.AxesSubplot at 0xdfec12ef98>"
      ]
     },
     "execution_count": 4,
     "metadata": {},
     "output_type": "execute_result"
    },
    {
     "data": {
      "image/png": "[encoded data removed]",
      "text/plain": [
       "<matplotlib.figure.Figure at 0xdfea0bc6a0>"
      ]
     },
     "metadata": {},
     "output_type": "display_data"
    }
   ],
   "source": [
    "ms.matrix(train)"
   ]
  },
  {
   "cell_type": "code",
   "execution_count": 5,
   "metadata": {},
   "outputs": [
    {
     "name": "stdout",
     "output_type": "stream",
     "text": [
      "[[478  71]\n",
      " [108 234]]\n",
      "accuracy_score 0.7991021324354658\n"
     ]
    }
   ],
   "source": [
    "# Method 1 implementation\n",
    "\n",
    "#############\n",
    "train['Age'].fillna(train['Age'].mode()[0], inplace=True)\n",
    "#############\n",
    "\n",
    "gender = {'male': 1, 'female': 0}\n",
    "train['Sex'] = train['Sex'].map(gender)\n",
    "\n",
    "train=train.drop('Name',axis=1)\n",
    "train=train.drop('Cabin',axis=1)\n",
    "train=train.drop('Embarked',axis=1)\n",
    "train=train.drop('Ticket',axis=1)\n",
    "\n",
    "PassengerId=train['PassengerId']\n",
    "train=train.drop('PassengerId',axis=1)\n",
    "\n",
    "y = train[\"Survived\"]\n",
    "X = train.drop('Survived',1)\n",
    "\n",
    "\n",
    "# Importing packages for cross validation and logistic regression\n",
    "from sklearn.model_selection import StratifiedKFold\n",
    "from sklearn.metrics import accuracy_score\n",
    "from sklearn.linear_model import LogisticRegression\n",
    "classifier = LogisticRegression(random_state = 0)\n",
    "classifier.fit(X, y)\n",
    "\n",
    "# Predicting the Test set results\n",
    "y_pred = classifier.predict(X)\n",
    "\n",
    "# Making the Confusion Matrix\n",
    "from sklearn.metrics import confusion_matrix\n",
    "cm = confusion_matrix(y, y_pred)\n",
    "print(cm)\n",
    "score = accuracy_score(y, y_pred)\n",
    "print('accuracy_score',score)"
   ]
  },
  {
   "cell_type": "markdown",
   "metadata": {},
   "source": [
    "## Method 2 implementation"
   ]
  },
  {
   "cell_type": "code",
   "execution_count": 6,
   "metadata": {},
   "outputs": [
    {
     "data": {
      "text/plain": [
       "<matplotlib.axes._subplots.AxesSubplot at 0xdfec3f6550>"
      ]
     },
     "execution_count": 6,
     "metadata": {},
     "output_type": "execute_result"
    },
    {
     "data": {
      "image/png": "[encoded data removed]",
      "text/plain": [
       "<matplotlib.figure.Figure at 0xdfe006eeb8>"
      ]
     },
     "metadata": {},
     "output_type": "display_data"
    }
   ],
   "source": [
    "#### Method 2 implementation\n",
    "train=pd.read_csv('train.csv')\n",
    "#### Fill the missing values in the obtained data\n",
    "\n",
    "plt.figure(figsize=(12, 7))\n",
    "sns.boxplot(x='Pclass',y='Age',data=train,palette='winter')\n"
   ]
  },
  {
   "cell_type": "markdown",
   "metadata": {},
   "source": [
    "\n",
    "The average age for each of the classes are estimated to be as follows:\n",
    "  \n",
    "  * For **Class 1** - The median age is 37\n",
    "  * For **Class 2** - The median age is 29\n",
    "  * For **Class 3** - The median age is 24\n",
    "  \n",
    "Let's impute these values into the age column.\n"
   ]
  },
  {
   "cell_type": "code",
   "execution_count": 7,
   "metadata": {},
   "outputs": [],
   "source": [
    "def impute_age(cols):\n",
    "    Age = cols[0]\n",
    "    Pclass = cols[1]\n",
    "    \n",
    "    if pd.isnull(Age):\n",
    "        # Class-1\n",
    "        if Pclass == 1:\n",
    "            return 37\n",
    "        # Class-2 \n",
    "        elif Pclass == 2:\n",
    "            return 29\n",
    "        # Class-3\n",
    "        else:\n",
    "            return 24\n",
    "\n",
    "    else:\n",
    "        return Age\n",
    "\n",
    "\n",
    "\n",
    "#Applying the function.\n",
    "\n",
    "train['Age'] = train[['Age','Pclass']].apply(impute_age,axis=1)"
   ]
  },
  {
   "cell_type": "code",
   "execution_count": 8,
   "metadata": {},
   "outputs": [
    {
     "name": "stdout",
     "output_type": "stream",
     "text": [
      "[[481  68]\n",
      " [108 234]]\n",
      "accuracy_score 0.8024691358024691\n"
     ]
    }
   ],
   "source": [
    "\n",
    "gender = {'male': 1, 'female': 0}\n",
    "train['Sex'] = train['Sex'].map(gender)\n",
    "\n",
    "train=train.drop('Name',axis=1)\n",
    "train=train.drop('Cabin',axis=1)\n",
    "train=train.drop('Embarked',axis=1)\n",
    "train=train.drop('Ticket',axis=1)\n",
    "\n",
    "PassengerId=train['PassengerId']\n",
    "train=train.drop('PassengerId',axis=1)\n",
    "\n",
    "y = train[\"Survived\"]\n",
    "X = train.drop('Survived',1)\n",
    "\n",
    "\n",
    "# Importing packages for cross validation and logistic regression\n",
    "from sklearn.model_selection import StratifiedKFold\n",
    "from sklearn.metrics import accuracy_score\n",
    "from sklearn.linear_model import LogisticRegression\n",
    "classifier = LogisticRegression(random_state = 0)\n",
    "classifier.fit(X, y)\n",
    "\n",
    "# Predicting the Test set results\n",
    "y_pred = classifier.predict(X)\n",
    "\n",
    "# Making the Confusion Matrix\n",
    "from sklearn.metrics import confusion_matrix\n",
    "cm = confusion_matrix(y, y_pred)\n",
    "print(cm)\n",
    "score = accuracy_score(y, y_pred)\n",
    "print('accuracy_score',score)"
   ]
  },
  {
   "cell_type": "code",
   "execution_count": null,
   "metadata": {},
   "outputs": [],
   "source": []
  },
  {
   "cell_type": "markdown",
   "metadata": {},
   "source": [
    "## Method 3 try your self"
   ]
  },
  {
   "cell_type": "markdown",
   "metadata": {},
   "source": [
    "## Method 4 implementation"
   ]
  },
  {
   "cell_type": "code",
   "execution_count": 9,
   "metadata": {},
   "outputs": [
    {
     "name": "stdout",
     "output_type": "stream",
     "text": [
      "[[478  71]\n",
      " [108 234]]\n",
      "accuracy_score 0.7991021324354658\n"
     ]
    }
   ],
   "source": [
    "#### Method 4 implementation\n",
    "train=pd.read_csv('train.csv')\n",
    "#### Fill the missing values in the obtained data\n",
    "\n",
    "gender = {'male': 1, 'female': 0}\n",
    "train['Sex'] = train['Sex'].map(gender)\n",
    "\n",
    "train=train.drop('Name',axis=1)\n",
    "train=train.drop('Cabin',axis=1)\n",
    "train=train.drop('Embarked',axis=1)\n",
    "train=train.drop('Ticket',axis=1)\n",
    "\n",
    "PassengerId=train['PassengerId']\n",
    "train=train.drop('PassengerId',axis=1)\n",
    "\n",
    "y = train[\"Survived\"]\n",
    "X = train.drop('Survived',1)\n",
    "\n",
    "\n",
    "############## implementation\n",
    "imp = Imputer(missing_values=\"NaN\", strategy='mean', axis=0)\n",
    "X= imp.fit_transform(X)\n",
    "\n",
    "##################################\n",
    "\n",
    "# Importing packages for cross validation and logistic regression\n",
    "from sklearn.model_selection import StratifiedKFold\n",
    "from sklearn.metrics import accuracy_score\n",
    "from sklearn.linear_model import LogisticRegression\n",
    "classifier = LogisticRegression(random_state = 0)\n",
    "classifier.fit(X, y)\n",
    "\n",
    "# Predicting the Test set results\n",
    "y_pred = classifier.predict(X)\n",
    "\n",
    "# Making the Confusion Matrix\n",
    "from sklearn.metrics import confusion_matrix\n",
    "cm = confusion_matrix(y, y_pred)\n",
    "print(cm)\n",
    "score = accuracy_score(y, y_pred)\n",
    "print('accuracy_score',score)"
   ]
  },
  {
   "cell_type": "markdown",
   "metadata": {},
   "source": [
    "## Method 5 implementation"
   ]
  },
  {
   "cell_type": "code",
   "execution_count": 10,
   "metadata": {},
   "outputs": [
    {
     "name": "stdout",
     "output_type": "stream",
     "text": [
      "[[480  69]\n",
      " [106 236]]\n",
      "accuracy_score 0.8035914702581369\n"
     ]
    }
   ],
   "source": [
    "#### Method 5 implementation\n",
    "train=pd.read_csv('train.csv')\n",
    "#### Fill the missing values in the obtained data\n",
    "\n",
    "gender = {'male': 1, 'female': 0}\n",
    "train['Sex'] = train['Sex'].map(gender)\n",
    "\n",
    "\n",
    "####################################implementation####################################\n",
    "age_backup=knn.knn_impute(target=train['Age'], attributes=train.drop(['Age', 'PassengerId'], 1),\n",
    "                                    aggregation_method=\"median\", k_neighbors=10, numeric_distance='euclidean',\n",
    "                                    categorical_distance='hamming', missing_neighbors_threshold=0.8)\n",
    "\n",
    "\n",
    "train['Age']=age_backup\n",
    "\n",
    "#####################################################################################\n",
    "train=train.drop('Name',axis=1)\n",
    "train=train.drop('Cabin',axis=1)\n",
    "train=train.drop('Embarked',axis=1)\n",
    "train=train.drop('Ticket',axis=1)\n",
    "\n",
    "PassengerId=train['PassengerId']\n",
    "train=train.drop('PassengerId',axis=1)\n",
    "\n",
    "y = train[\"Survived\"]\n",
    "X = train.drop('Survived',1)\n",
    "\n",
    "\n",
    "############## implementation is done but 3 values are not filled so filling those with method 1####################\n",
    "train['Age'].fillna(train['Age'].mode()[0], inplace=True)\n",
    "##################################\n",
    "\n",
    "# Importing packages for cross validation and logistic regression\n",
    "from sklearn.model_selection import StratifiedKFold\n",
    "from sklearn.metrics import accuracy_score\n",
    "from sklearn.linear_model import LogisticRegression\n",
    "classifier = LogisticRegression(random_state = 0)\n",
    "classifier.fit(X, y)\n",
    "\n",
    "# Predicting the Test set results\n",
    "y_pred = classifier.predict(X)\n",
    "\n",
    "# Making the Confusion Matrix\n",
    "from sklearn.metrics import confusion_matrix\n",
    "cm = confusion_matrix(y, y_pred)\n",
    "print(cm)\n",
    "score = accuracy_score(y, y_pred)\n",
    "print('accuracy_score',score)"
   ]
  },
  {
   "cell_type": "markdown",
   "metadata": {},
   "source": [
    "## Now will apply for Decision Tree Classification "
   ]
  },
  {
   "cell_type": "code",
   "execution_count": 26,
   "metadata": {},
   "outputs": [
    {
     "name": "stdout",
     "output_type": "stream",
     "text": [
      "[[549   0]\n",
      " [  1 341]]\n",
      "accuracy_score 0.9988776655443322\n"
     ]
    }
   ],
   "source": [
    "# Fitting Decision Tree Classification to the Training set\n",
    "from sklearn.tree import DecisionTreeClassifier\n",
    "classifier = DecisionTreeClassifier(criterion = 'entropy', random_state = 0)\n",
    "classifier.fit(X, y)\n",
    "\n",
    "# Predicting the Test set results\n",
    "y_pred = classifier.predict(X)\n",
    "\n",
    "# Making the Confusion Matrix\n",
    "from sklearn.metrics import confusion_matrix\n",
    "cm = confusion_matrix(y, y_pred)\n",
    "print(cm)\n",
    "score = accuracy_score(y, y_pred)\n",
    "print('accuracy_score',score)"
   ]
  },
  {
   "cell_type": "code",
   "execution_count": 12,
   "metadata": {},
   "outputs": [
    {
     "name": "stdout",
     "output_type": "stream",
     "text": [
      "[[474  75]\n",
      " [107 235]]\n",
      "accuracy_score 0.7957351290684624\n"
     ]
    }
   ],
   "source": [
    "#### Method 6 implementation\n",
    "train=pd.read_csv('train.csv')\n",
    "#### Fill the missing values in the obtained data\n",
    "\n",
    "gender = {'male': 1, 'female': 0}\n",
    "train['Sex'] = train['Sex'].map(gender)\n",
    "\n",
    "############## implementation\n",
    "train = train.fillna(0)\n",
    "##################################\n",
    "\n",
    "train=train.drop('Name',axis=1)\n",
    "train=train.drop('Cabin',axis=1)\n",
    "train=train.drop('Embarked',axis=1)\n",
    "train=train.drop('Ticket',axis=1)\n",
    "\n",
    "PassengerId=train['PassengerId']\n",
    "train=train.drop('PassengerId',axis=1)\n",
    "\n",
    "y = train[\"Survived\"]\n",
    "X = train.drop('Survived',1)\n",
    "\n",
    "\n",
    "\n",
    "# Importing packages for cross validation and logistic regression\n",
    "from sklearn.model_selection import StratifiedKFold\n",
    "from sklearn.metrics import accuracy_score\n",
    "from sklearn.linear_model import LogisticRegression\n",
    "classifier = LogisticRegression(random_state = 0)\n",
    "classifier.fit(X, y)\n",
    "\n",
    "# Predicting the Test set results\n",
    "y_pred = classifier.predict(X)\n",
    "\n",
    "# Making the Confusion Matrix\n",
    "from sklearn.metrics import confusion_matrix\n",
    "cm = confusion_matrix(y, y_pred)\n",
    "print(cm)\n",
    "score = accuracy_score(y, y_pred)\n",
    "print('accuracy_score',score)"
   ]
  },
  {
   "cell_type": "code",
   "execution_count": 22,
   "metadata": {},
   "outputs": [
    {
     "name": "stdout",
     "output_type": "stream",
     "text": [
      "[[474  75]\n",
      " [110 232]]\n",
      "accuracy_score 0.792368125701459\n"
     ]
    }
   ],
   "source": [
    "#### Method 7 implementation\n",
    "train=pd.read_csv('train.csv')\n",
    "#### Fill the missing values in the obtained data\n",
    "\n",
    "gender = {'male': 1, 'female': 0}\n",
    "train['Sex'] = train['Sex'].map(gender)\n",
    "\n",
    "train=train.drop('Name',axis=1)\n",
    "train=train.drop('Cabin',axis=1)\n",
    "train=train.drop('Embarked',axis=1)\n",
    "train=train.drop('Ticket',axis=1)\n",
    "\n",
    "PassengerId=train['PassengerId']\n",
    "train=train.drop('PassengerId',axis=1)\n",
    "\n",
    "y = train[\"Age\"]\n",
    "X = train.drop('Age',1)\n",
    "\n",
    "# Importing packages for DecisionTreeRegressor\n",
    "from sklearn.model_selection import StratifiedKFold\n",
    "from sklearn.metrics import accuracy_score\n",
    "from sklearn.tree import DecisionTreeRegressor\n",
    "import regression_models\n",
    "classifier = DecisionTreeRegressor(random_state=0)\n",
    "classifier.fit(X, y)\n",
    "\n",
    "# Predicting the age\n",
    "Age = classifier.predict(X)\n",
    "#####################################################################################\n",
    "\n",
    "train=pd.read_csv('train.csv')\n",
    "#### Fill the missing values in the obtained data\n",
    "\n",
    "gender = {'male': 1, 'female': 0}\n",
    "train['Sex'] = train['Sex'].map(gender)\n",
    "\n",
    "############## implementation\n",
    "train[\"Age\"] = Age\n",
    "train[\"Age\"].astype(int)\n",
    "##################################\n",
    "\n",
    "train=train.drop('Name',axis=1)\n",
    "train=train.drop('Cabin',axis=1)\n",
    "train=train.drop('Embarked',axis=1)\n",
    "train=train.drop('Ticket',axis=1)\n",
    "\n",
    "PassengerId=train['PassengerId']\n",
    "train=train.drop('PassengerId',axis=1)\n",
    "\n",
    "y = train[\"Survived\"]\n",
    "X = train.drop('Survived',1)\n",
    "\n",
    "# Importing packages for cross validation and logistic regression\n",
    "from sklearn.model_selection import StratifiedKFold\n",
    "from sklearn.metrics import accuracy_score\n",
    "from sklearn.linear_model import LogisticRegression\n",
    "classifier = LogisticRegression(random_state = 0)\n",
    "classifier.fit(X, y)\n",
    "\n",
    "# Predicting the Test set results\n",
    "y_pred = classifier.predict(X)\n",
    "\n",
    "# Making the Confusion Matrix\n",
    "from sklearn.metrics import confusion_matrix\n",
    "cm = confusion_matrix(y, y_pred)\n",
    "print(cm)\n",
    "score = accuracy_score(y, y_pred)\n",
    "print('accuracy_score',score)\n"
   ]
  },
  {
   "cell_type": "markdown",
   "metadata": {},
   "source": [
    "# So apply imputation methods for better outcome.\n",
    "\n",
    "# And I will add more imputation methods in future and if any one knows about new imputation methods please at comment at GITHUB\n",
    "\n",
    "\n",
    "\n",
    "\n",
    "#                                            *** ALL THE BEST ***"
   ]
  }
 ],
 "metadata": {
  "kernelspec": {
   "display_name": "Python 3",
   "language": "python",
   "name": "python3"
  },
  "language_info": {
   "codemirror_mode": {
    "name": "ipython",
    "version": 3
   },
   "file_extension": ".py",
   "mimetype": "text/x-python",
   "name": "python",
   "nbconvert_exporter": "python",
   "pygments_lexer": "ipython3",
   "version": "3.6.4"
  }
 },
 "nbformat": 4,
 "nbformat_minor": 2
}
